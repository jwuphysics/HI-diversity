{
 "cells": [
  {
   "cell_type": "code",
   "execution_count": 1,
   "metadata": {},
   "outputs": [],
   "source": [
    "from fastai import *\n",
    "from fastai.vision import *\n",
    "\n",
    "from ranger import Ranger\n",
    "\n",
    "%matplotlib inline\n",
    "PATH = Path('../..').resolve()"
   ]
  },
  {
   "cell_type": "markdown",
   "metadata": {},
   "source": [
    "# Unify detections/nondetection catalogs"
   ]
  },
  {
   "cell_type": "code",
   "execution_count": 2,
   "metadata": {},
   "outputs": [
    {
     "data": {
      "text/html": [
       "<div>\n",
       "<style scoped>\n",
       "    .dataframe tbody tr th:only-of-type {\n",
       "        vertical-align: middle;\n",
       "    }\n",
       "\n",
       "    .dataframe tbody tr th {\n",
       "        vertical-align: top;\n",
       "    }\n",
       "\n",
       "    .dataframe thead th {\n",
       "        text-align: right;\n",
       "    }\n",
       "</style>\n",
       "<table border=\"1\" class=\"dataframe\">\n",
       "  <thead>\n",
       "    <tr style=\"text-align: right;\">\n",
       "      <th></th>\n",
       "      <th>ra</th>\n",
       "      <th>dec</th>\n",
       "      <th>z</th>\n",
       "      <th>r</th>\n",
       "      <th>detected</th>\n",
       "    </tr>\n",
       "    <tr>\n",
       "      <th>id</th>\n",
       "      <th></th>\n",
       "      <th></th>\n",
       "      <th></th>\n",
       "      <th></th>\n",
       "      <th></th>\n",
       "    </tr>\n",
       "  </thead>\n",
       "  <tbody>\n",
       "    <tr>\n",
       "      <td>a40_202892</td>\n",
       "      <td>161.64958</td>\n",
       "      <td>12.22028</td>\n",
       "      <td>0.02446</td>\n",
       "      <td>16.23</td>\n",
       "      <td>True</td>\n",
       "    </tr>\n",
       "    <tr>\n",
       "      <td>a40_200661</td>\n",
       "      <td>163.61540</td>\n",
       "      <td>9.94972</td>\n",
       "      <td>0.03094</td>\n",
       "      <td>14.82</td>\n",
       "      <td>True</td>\n",
       "    </tr>\n",
       "    <tr>\n",
       "      <td>a40_226305</td>\n",
       "      <td>184.35085</td>\n",
       "      <td>7.04056</td>\n",
       "      <td>0.01247</td>\n",
       "      <td>16.02</td>\n",
       "      <td>True</td>\n",
       "    </tr>\n",
       "  </tbody>\n",
       "</table>\n",
       "</div>"
      ],
      "text/plain": [
       "                   ra       dec        z      r  detected\n",
       "id                                                       \n",
       "a40_202892  161.64958  12.22028  0.02446  16.23      True\n",
       "a40_200661  163.61540   9.94972  0.03094  14.82      True\n",
       "a40_226305  184.35085   7.04056  0.01247  16.02      True"
      ]
     },
     "execution_count": 2,
     "metadata": {},
     "output_type": "execute_result"
    }
   ],
   "source": [
    "# detections\n",
    "a40 = pd.read_csv(f'../../results/a40_detections.csv',)\n",
    "\n",
    "a40['id'] = a40.AGCNr.apply(lambda s: f'a40_{s}')\n",
    "a40.set_index('id', inplace=True)\n",
    "a40.drop('AGCNr', axis=1, inplace=True)\n",
    "\n",
    "a40['detected'] = True\n",
    "a40.sample(3)"
   ]
  },
  {
   "cell_type": "code",
   "execution_count": 3,
   "metadata": {},
   "outputs": [
    {
     "data": {
      "text/html": [
       "<div>\n",
       "<style scoped>\n",
       "    .dataframe tbody tr th:only-of-type {\n",
       "        vertical-align: middle;\n",
       "    }\n",
       "\n",
       "    .dataframe tbody tr th {\n",
       "        vertical-align: top;\n",
       "    }\n",
       "\n",
       "    .dataframe thead th {\n",
       "        text-align: right;\n",
       "    }\n",
       "</style>\n",
       "<table border=\"1\" class=\"dataframe\">\n",
       "  <thead>\n",
       "    <tr style=\"text-align: right;\">\n",
       "      <th></th>\n",
       "      <th>ra</th>\n",
       "      <th>dec</th>\n",
       "      <th>z</th>\n",
       "      <th>r</th>\n",
       "      <th>detected</th>\n",
       "    </tr>\n",
       "    <tr>\n",
       "      <th>id</th>\n",
       "      <th></th>\n",
       "      <th></th>\n",
       "      <th></th>\n",
       "      <th></th>\n",
       "      <th></th>\n",
       "    </tr>\n",
       "  </thead>\n",
       "  <tbody>\n",
       "    <tr>\n",
       "      <td>nsa_111815</td>\n",
       "      <td>167.368154</td>\n",
       "      <td>15.940043</td>\n",
       "      <td>0.047360</td>\n",
       "      <td>16.761118</td>\n",
       "      <td>False</td>\n",
       "    </tr>\n",
       "    <tr>\n",
       "      <td>nsa_77051</td>\n",
       "      <td>193.990929</td>\n",
       "      <td>8.609985</td>\n",
       "      <td>0.047028</td>\n",
       "      <td>15.773900</td>\n",
       "      <td>False</td>\n",
       "    </tr>\n",
       "    <tr>\n",
       "      <td>nsa_65998</td>\n",
       "      <td>165.297153</td>\n",
       "      <td>12.474752</td>\n",
       "      <td>0.026952</td>\n",
       "      <td>14.179374</td>\n",
       "      <td>False</td>\n",
       "    </tr>\n",
       "  </tbody>\n",
       "</table>\n",
       "</div>"
      ],
      "text/plain": [
       "                    ra        dec         z          r  detected\n",
       "id                                                              \n",
       "nsa_111815  167.368154  15.940043  0.047360  16.761118     False\n",
       "nsa_77051   193.990929   8.609985  0.047028  15.773900     False\n",
       "nsa_65998   165.297153  12.474752  0.026952  14.179374     False"
      ]
     },
     "execution_count": 3,
     "metadata": {},
     "output_type": "execute_result"
    }
   ],
   "source": [
    "# non-detections\n",
    "nsa = pd.read_csv(f'../../results/nsa_nondetections.csv',)\n",
    "\n",
    "nsa['id'] = nsa.NSAID.apply(lambda s: f'nsa_{s}')\n",
    "nsa.set_index('id', inplace=True)\n",
    "nsa.drop('NSAID', axis=1, inplace=True)\n",
    "\n",
    "nsa['detected'] = False\n",
    "nsa.sample(3)"
   ]
  },
  {
   "cell_type": "code",
   "execution_count": 4,
   "metadata": {},
   "outputs": [
    {
     "data": {
      "text/plain": [
       "((2662, 5), (2662, 5))"
      ]
     },
     "execution_count": 4,
     "metadata": {},
     "output_type": "execute_result"
    }
   ],
   "source": [
    "nsa.shape, a40.shape"
   ]
  },
  {
   "cell_type": "markdown",
   "metadata": {},
   "source": [
    "**Note that the two NSAID and AGCNr *numbers* are not unique!**"
   ]
  },
  {
   "cell_type": "code",
   "execution_count": 5,
   "metadata": {},
   "outputs": [
    {
     "data": {
      "text/html": [
       "<div>\n",
       "<style scoped>\n",
       "    .dataframe tbody tr th:only-of-type {\n",
       "        vertical-align: middle;\n",
       "    }\n",
       "\n",
       "    .dataframe tbody tr th {\n",
       "        vertical-align: top;\n",
       "    }\n",
       "\n",
       "    .dataframe thead th {\n",
       "        text-align: right;\n",
       "    }\n",
       "</style>\n",
       "<table border=\"1\" class=\"dataframe\">\n",
       "  <thead>\n",
       "    <tr style=\"text-align: right;\">\n",
       "      <th></th>\n",
       "      <th>ra</th>\n",
       "      <th>dec</th>\n",
       "      <th>z</th>\n",
       "      <th>r</th>\n",
       "      <th>detected</th>\n",
       "    </tr>\n",
       "    <tr>\n",
       "      <th>id</th>\n",
       "      <th></th>\n",
       "      <th></th>\n",
       "      <th></th>\n",
       "      <th></th>\n",
       "      <th></th>\n",
       "    </tr>\n",
       "  </thead>\n",
       "  <tbody>\n",
       "    <tr>\n",
       "      <td>a40_214284</td>\n",
       "      <td>169.64583</td>\n",
       "      <td>4.71611</td>\n",
       "      <td>0.04738</td>\n",
       "      <td>16.37</td>\n",
       "      <td>True</td>\n",
       "    </tr>\n",
       "    <tr>\n",
       "      <td>a40_224556</td>\n",
       "      <td>182.66585</td>\n",
       "      <td>10.55333</td>\n",
       "      <td>0.04439</td>\n",
       "      <td>16.47</td>\n",
       "      <td>True</td>\n",
       "    </tr>\n",
       "    <tr>\n",
       "      <td>a40_200661</td>\n",
       "      <td>163.61540</td>\n",
       "      <td>9.94972</td>\n",
       "      <td>0.03094</td>\n",
       "      <td>14.82</td>\n",
       "      <td>True</td>\n",
       "    </tr>\n",
       "    <tr>\n",
       "      <td>a40_200484</td>\n",
       "      <td>159.08125</td>\n",
       "      <td>13.44611</td>\n",
       "      <td>0.02225</td>\n",
       "      <td>14.33</td>\n",
       "      <td>True</td>\n",
       "    </tr>\n",
       "    <tr>\n",
       "      <td>a40_202193</td>\n",
       "      <td>152.36624</td>\n",
       "      <td>8.91472</td>\n",
       "      <td>0.02667</td>\n",
       "      <td>16.40</td>\n",
       "      <td>True</td>\n",
       "    </tr>\n",
       "  </tbody>\n",
       "</table>\n",
       "</div>"
      ],
      "text/plain": [
       "                   ra       dec        z      r  detected\n",
       "id                                                       \n",
       "a40_214284  169.64583   4.71611  0.04738  16.37      True\n",
       "a40_224556  182.66585  10.55333  0.04439  16.47      True\n",
       "a40_200661  163.61540   9.94972  0.03094  14.82      True\n",
       "a40_200484  159.08125  13.44611  0.02225  14.33      True\n",
       "a40_202193  152.36624   8.91472  0.02667  16.40      True"
      ]
     },
     "execution_count": 5,
     "metadata": {},
     "output_type": "execute_result"
    }
   ],
   "source": [
    "df = pd.concat((a40, nsa)).sample(frac=1)\n",
    "df.sample(5)"
   ]
  },
  {
   "cell_type": "code",
   "execution_count": 49,
   "metadata": {},
   "outputs": [],
   "source": [
    "# df.to_csv('../../results/detectability_sample.csv', index=True)"
   ]
  },
  {
   "cell_type": "code",
   "execution_count": 10,
   "metadata": {},
   "outputs": [
    {
     "data": {
      "text/plain": [
       "<matplotlib.axes._subplots.AxesSubplot at 0x7fd14c2df908>"
      ]
     },
     "execution_count": 10,
     "metadata": {},
     "output_type": "execute_result"
    },
    {
     "data": {
      "image/png": "[encoded data removed]",
      "text/plain": [
       "<Figure size 576x432 with 1 Axes>"
      ]
     },
     "metadata": {
      "needs_background": "light"
     },
     "output_type": "display_data"
    }
   ],
   "source": [
    "plt.figure(figsize=(8,6))\n",
    "df[df.detected].plot.scatter('ra', 'dec', c='C0', ax=plt.gca(), s=3)\n",
    "df[~df.detected].plot.scatter('ra', 'dec', c='C3', ax=plt.gca(), s=3)"
   ]
  },
  {
   "cell_type": "markdown",
   "metadata": {},
   "source": [
    "# Building a model"
   ]
  },
  {
   "cell_type": "code",
   "execution_count": 7,
   "metadata": {},
   "outputs": [],
   "source": [
    "df = pd.read_csv('../../results/detectability_sample.csv')"
   ]
  },
  {
   "cell_type": "code",
   "execution_count": 37,
   "metadata": {},
   "outputs": [],
   "source": [
    "bs = 32\n",
    "sz = 56\n",
    "\n",
    "image_stats = [tensor([-0.0169, -0.0105, -0.0004]), tensor([0.9912, 0.9968, 1.0224])]\n",
    "\n",
    "tfms = get_transforms(\n",
    "    do_flip=True,\n",
    "    flip_vert=True,\n",
    "    max_zoom=1.0,\n",
    "    max_rotate=15.0,\n",
    "    max_lighting=0,\n",
    "    max_warp=0,\n",
    ")"
   ]
  },
  {
   "cell_type": "code",
   "execution_count": 38,
   "metadata": {},
   "outputs": [],
   "source": [
    "il = ImageList.from_df(df, path=PATH, folder='images-detectability', suffix='.jpg', cols='id')\n",
    "\n",
    "src = (il.split_by_rand_pct(0.2)\n",
    "         .label_from_df(cols='detected')\n",
    ")\n",
    "\n",
    "data = (src.transform(tfms, size=sz)\n",
    "           .databunch(bs=bs)\n",
    "           .normalize(image_stats)\n",
    ")"
   ]
  },
  {
   "cell_type": "code",
   "execution_count": 39,
   "metadata": {},
   "outputs": [],
   "source": [
    "model = simple_cnn([3, 16, 32, 2])"
   ]
  },
  {
   "cell_type": "code",
   "execution_count": 45,
   "metadata": {},
   "outputs": [],
   "source": [
    "learn = Learner(\n",
    "    data,\n",
    "    model=model,\n",
    "    opt_func=partial(Ranger),\n",
    "    metrics=[accuracy],\n",
    "    wd=1e-4,\n",
    "    bn_wd=False,\n",
    "    true_wd=True,\n",
    ")\n",
    "\n"
   ]
  },
  {
   "cell_type": "code",
   "execution_count": 46,
   "metadata": {},
   "outputs": [
    {
     "data": {
      "text/plain": [
       "Sequential(\n",
       "  (0): Sequential(\n",
       "    (0): Conv2d(3, 16, kernel_size=(3, 3), stride=(2, 2), padding=(1, 1))\n",
       "    (1): ReLU(inplace=True)\n",
       "  )\n",
       "  (1): Sequential(\n",
       "    (0): Conv2d(16, 32, kernel_size=(3, 3), stride=(2, 2), padding=(1, 1))\n",
       "    (1): ReLU(inplace=True)\n",
       "  )\n",
       "  (2): Sequential(\n",
       "    (0): Conv2d(32, 2, kernel_size=(3, 3), stride=(2, 2), padding=(1, 1))\n",
       "    (1): ReLU(inplace=True)\n",
       "  )\n",
       "  (3): Sequential(\n",
       "    (0): AdaptiveAvgPool2d(output_size=1)\n",
       "    (1): Flatten()\n",
       "  )\n",
       ")"
      ]
     },
     "execution_count": 46,
     "metadata": {},
     "output_type": "execute_result"
    }
   ],
   "source": [
    "learn.model"
   ]
  },
  {
   "cell_type": "code",
   "execution_count": 47,
   "metadata": {},
   "outputs": [
    {
     "data": {
      "text/html": [],
      "text/plain": [
       "<IPython.core.display.HTML object>"
      ]
     },
     "metadata": {},
     "output_type": "display_data"
    },
    {
     "name": "stdout",
     "output_type": "stream",
     "text": [
      "set state called\n",
      "LR Finder is complete, type {learner_name}.recorder.plot() to see the graph.\n"
     ]
    },
    {
     "data": {
      "image/png": "[encoded data removed]",
      "text/plain": [
       "<Figure size 432x288 with 1 Axes>"
      ]
     },
     "metadata": {
      "needs_background": "light"
     },
     "output_type": "display_data"
    }
   ],
   "source": [
    "learn.lr_find()\n",
    "learn.recorder.plot()"
   ]
  },
  {
   "cell_type": "code",
   "execution_count": 48,
   "metadata": {},
   "outputs": [
    {
     "data": {
      "text/html": [
       "<table border=\"1\" class=\"dataframe\">\n",
       "  <thead>\n",
       "    <tr style=\"text-align: left;\">\n",
       "      <th>epoch</th>\n",
       "      <th>train_loss</th>\n",
       "      <th>valid_loss</th>\n",
       "      <th>accuracy</th>\n",
       "      <th>time</th>\n",
       "    </tr>\n",
       "  </thead>\n",
       "  <tbody>\n",
       "    <tr>\n",
       "      <td>0</td>\n",
       "      <td>0.672251</td>\n",
       "      <td>0.662297</td>\n",
       "      <td>0.626880</td>\n",
       "      <td>00:08</td>\n",
       "    </tr>\n",
       "  </tbody>\n",
       "</table>"
      ],
      "text/plain": [
       "<IPython.core.display.HTML object>"
      ]
     },
     "metadata": {},
     "output_type": "display_data"
    }
   ],
   "source": [
    "learn.fit(1, 1e-2)"
   ]
  },
  {
   "cell_type": "code",
   "execution_count": null,
   "metadata": {},
   "outputs": [],
   "source": []
  }
 ],
 "metadata": {
  "kernelspec": {
   "display_name": "Python [conda env:fastai]",
   "language": "python",
   "name": "conda-env-fastai-py"
  },
  "language_info": {
   "codemirror_mode": {
    "name": "ipython",
    "version": 3
   },
   "file_extension": ".py",
   "mimetype": "text/x-python",
   "name": "python",
   "nbconvert_exporter": "python",
   "pygments_lexer": "ipython3",
   "version": "3.7.3"
  },
  "toc": {
   "base_numbering": 1,
   "nav_menu": {},
   "number_sections": true,
   "sideBar": true,
   "skip_h1_title": false,
   "title_cell": "Table of Contents",
   "title_sidebar": "Contents",
   "toc_cell": false,
   "toc_position": {},
   "toc_section_display": true,
   "toc_window_display": false
  }
 },
 "nbformat": 4,
 "nbformat_minor": 2
}
